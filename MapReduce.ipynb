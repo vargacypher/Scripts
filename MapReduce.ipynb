{
  "nbformat": 4,
  "nbformat_minor": 0,
  "metadata": {
    "colab": {
      "provenance": [],
      "collapsed_sections": [],
      "authorship_tag": "ABX9TyNJznW0abEAQFxMaknzOdna",
      "include_colab_link": true
    },
    "kernelspec": {
      "name": "python3",
      "display_name": "Python 3"
    },
    "language_info": {
      "name": "python"
    }
  },
  "cells": [
    {
      "cell_type": "markdown",
      "metadata": {
        "id": "view-in-github",
        "colab_type": "text"
      },
      "source": [
        "<a href=\"https://colab.research.google.com/github/vargacypher/Scripts/blob/master/MapReduce.ipynb\" target=\"_parent\"><img src=\"https://colab.research.google.com/assets/colab-badge.svg\" alt=\"Open In Colab\"/></a>"
      ]
    },
    {
      "cell_type": "code",
      "execution_count": 24,
      "metadata": {
        "id": "2DGR6KAeOz7b"
      },
      "outputs": [],
      "source": [
        "def map (file_path: str) -> list(tuple([str,int])):\n",
        "  data = []\n",
        "  with open(file_path) as file:\n",
        "    for line in file:\n",
        "      for word in line.split():\n",
        "        word = word.lower()\n",
        "        data.append((word,1))\n",
        "  return data\n"
      ]
    },
    {
      "cell_type": "code",
      "source": [
        "map('/content/test.txt')"
      ],
      "metadata": {
        "colab": {
          "base_uri": "https://localhost:8080/"
        },
        "id": "5jzHyl_mgGTy",
        "outputId": "9d48017a-0879-4c83-863e-8aacb285e948"
      },
      "execution_count": 71,
      "outputs": [
        {
          "output_type": "execute_result",
          "data": {
            "text/plain": [
              "[('bla', 1),\n",
              " ('bla', 1),\n",
              " ('bla', 1),\n",
              " ('oi', 1),\n",
              " ('você', 1),\n",
              " ('é', 1),\n",
              " ('legal', 1),\n",
              " ('bla', 1),\n",
              " ('bla', 1),\n",
              " ('bla', 1),\n",
              " ('bla', 1),\n",
              " ('vamos', 1),\n",
              " ('falar', 1),\n",
              " ('sobre', 1),\n",
              " ('map', 1),\n",
              " ('reduce', 1),\n",
              " ('entre', 1),\n",
              " ('outras', 1),\n",
              " ('coisas', 1)]"
            ]
          },
          "metadata": {},
          "execution_count": 71
        }
      ]
    },
    {
      "cell_type": "code",
      "source": [
        "from collections import defaultdict\n",
        "\n",
        "#Organiza as tuplas em  tuplas com uma chave e uma lista da ocorrências\n",
        "def partition(mapped_values: str) -> list(tuple([str,int])):\n",
        "  partitioned_data = defaultdict(list)\n",
        "  for key, value in mapped_values:\n",
        "    partitioned_data[key].append(value)\n",
        "  return partitioned_data.items()"
      ],
      "metadata": {
        "id": "I4W63sf8RqE8"
      },
      "execution_count": 59,
      "outputs": []
    },
    {
      "cell_type": "code",
      "source": [
        "partition(map('/content/test.txt'))"
      ],
      "metadata": {
        "colab": {
          "base_uri": "https://localhost:8080/"
        },
        "id": "4AM4JYT8SP2G",
        "outputId": "3f841502-72d5-4b01-b9e0-91efe5898199"
      },
      "execution_count": 57,
      "outputs": [
        {
          "output_type": "execute_result",
          "data": {
            "text/plain": [
              "dict_items([('bla', [1, 1, 1, 1, 1, 1, 1]), ('oi', [1]), ('você', [1]), ('é', [1]), ('legal', [1]), ('vamos', [1]), ('falar', [1]), ('sobre', [1]), ('map', [1]), ('reduce', [1]), ('entre', [1]), ('outras', [1]), ('coisas', [1])])"
            ]
          },
          "metadata": {},
          "execution_count": 57
        }
      ]
    },
    {
      "cell_type": "code",
      "source": [
        "def reduce(partitioned_values):\n",
        "  reduced_values = [(x,sum(y)) for x,y in partitioned_values]\n",
        "  return reduced_values"
      ],
      "metadata": {
        "id": "YKghA7S_T2O6"
      },
      "execution_count": 69,
      "outputs": []
    },
    {
      "cell_type": "code",
      "source": [
        "reduce(partition(map('/content/test.txt')))"
      ],
      "metadata": {
        "colab": {
          "base_uri": "https://localhost:8080/"
        },
        "id": "nQL8WcTZTc6z",
        "outputId": "a4561b22-0a67-4643-ee35-e8804f56868e"
      },
      "execution_count": 70,
      "outputs": [
        {
          "output_type": "execute_result",
          "data": {
            "text/plain": [
              "[('bla', 7),\n",
              " ('oi', 1),\n",
              " ('você', 1),\n",
              " ('é', 1),\n",
              " ('legal', 1),\n",
              " ('vamos', 1),\n",
              " ('falar', 1),\n",
              " ('sobre', 1),\n",
              " ('map', 1),\n",
              " ('reduce', 1),\n",
              " ('entre', 1),\n",
              " ('outras', 1),\n",
              " ('coisas', 1)]"
            ]
          },
          "metadata": {},
          "execution_count": 70
        }
      ]
    },
    {
      "cell_type": "code",
      "source": [],
      "metadata": {
        "id": "sk82wdXyUSvw"
      },
      "execution_count": null,
      "outputs": []
    }
  ]
}